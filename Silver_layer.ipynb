{
 "cells": [
  {
   "cell_type": "code",
   "execution_count": 0,
   "metadata": {
    "application/vnd.databricks.v1+cell": {
     "cellMetadata": {
      "byteLimit": 2048000,
      "rowLimit": 10000
     },
     "inputWidgets": {},
     "nuid": "01de17a8-4edf-4773-986c-7a62838d43b8",
     "showTitle": false,
     "tableResultSettingsMap": {},
     "title": ""
    }
   },
   "outputs": [],
   "source": [
    "from pyspark.sql import SparkSession\n",
    "from pyspark.sql.functions import *\n",
    "from pyspark.sql.types import *\n",
    "import re"
   ]
  },
  {
   "cell_type": "code",
   "execution_count": 0,
   "metadata": {
    "application/vnd.databricks.v1+cell": {
     "cellMetadata": {
      "byteLimit": 2048000,
      "rowLimit": 10000
     },
     "inputWidgets": {},
     "nuid": "21fd2c0b-fa80-46aa-ae61-1f99fdd08ca0",
     "showTitle": false,
     "tableResultSettingsMap": {},
     "title": ""
    }
   },
   "outputs": [],
   "source": [
    "#Contracts transformation\n",
    "df_contracts_parquet = spark.read.format(\"parquet\").load(\"abfss://ifrs-project@storagezyesnazarov.dfs.core.windows.net/project-data/contracts/parquet/contracts_data\")"
   ]
  },
  {
   "cell_type": "code",
   "execution_count": 0,
   "metadata": {
    "application/vnd.databricks.v1+cell": {
     "cellMetadata": {
      "byteLimit": 2048000,
      "rowLimit": 10000
     },
     "inputWidgets": {},
     "nuid": "e559e65a-ba88-416c-935f-f20953a95597",
     "showTitle": false,
     "tableResultSettingsMap": {},
     "title": ""
    }
   },
   "outputs": [],
   "source": [
    "#dropping duplicates\n",
    "df_contracts_cleaned = df_contracts_parquet.dropDuplicates()"
   ]
  },
  {
   "cell_type": "code",
   "execution_count": 0,
   "metadata": {
    "application/vnd.databricks.v1+cell": {
     "cellMetadata": {
      "byteLimit": 2048000,
      "rowLimit": 10000
     },
     "inputWidgets": {},
     "nuid": "e8a0b382-e1af-4e4c-918e-7bf0347c60de",
     "showTitle": false,
     "tableResultSettingsMap": {},
     "title": ""
    }
   },
   "outputs": [],
   "source": [
    "#column\n",
    "df_contracts_cleaned = df_contracts_cleaned.toDF(*[col_name.lower().replace(\" \" , \"_\") for col_name in df_contracts_cleaned.columns])"
   ]
  },
  {
   "cell_type": "code",
   "execution_count": 0,
   "metadata": {
    "application/vnd.databricks.v1+cell": {
     "cellMetadata": {
      "byteLimit": 2048000,
      "rowLimit": 10000
     },
     "inputWidgets": {},
     "nuid": "c30a6117-2593-44b3-b2e3-792a30d03309",
     "showTitle": false,
     "tableResultSettingsMap": {},
     "title": ""
    }
   },
   "outputs": [],
   "source": [
    "df_contracts_cleaned = df_contracts_cleaned.fillna({\n",
    "    \"contract_amount\": 0,\n",
    "    \"contract_lead\": \"Unknown\",\n",
    "    \"contract_id\": \"Unknown\",\n",
    "    \"contractor\": \"Unknown\"\n",
    "})"
   ]
  },
  {
   "cell_type": "code",
   "execution_count": 0,
   "metadata": {
    "application/vnd.databricks.v1+cell": {
     "cellMetadata": {
      "byteLimit": 2048000,
      "rowLimit": 10000
     },
     "inputWidgets": {},
     "nuid": "33be8f2e-7a3b-462d-b694-6240c3b62661",
     "showTitle": false,
     "tableResultSettingsMap": {},
     "title": ""
    }
   },
   "outputs": [],
   "source": [
    "# Ensure the date columns are in string format before conversion\n",
    "df_contracts_cleaned = df_contracts_cleaned \\\n",
    "    .withColumn(\"Date_signed\", to_date(col(\"Date_signed\"), \"M/d/yy\")) \\\n",
    "    .withColumn(\"Maturity_date\", to_date(col(\"Maturity_date\"), \"M/d/yy\")) \\\n",
    "    .withColumn(\"contract_amount\", col(\"contract_amount\").cast(\"float\")) \\\n",
    "    .withColumn(\"estimated_costs\", round(col(\"estimated_costs\"),0).cast(\"float\"))"
   ]
  },
  {
   "cell_type": "code",
   "execution_count": 0,
   "metadata": {
    "application/vnd.databricks.v1+cell": {
     "cellMetadata": {
      "byteLimit": 2048000,
      "rowLimit": 10000
     },
     "inputWidgets": {},
     "nuid": "b11bda49-8a79-45b3-b3d0-e31a8fbeadc4",
     "showTitle": false,
     "tableResultSettingsMap": {},
     "title": ""
    }
   },
   "outputs": [],
   "source": [
    "df_contracts_cleaned.write.format(\"delta\").mode(\"overwrite\").option(\"overwriteSchema\",\"true\").save(\"abfss://ifrs-project@storagezyesnazarov.dfs.core.windows.net/project-data/contracts/delta/contracts_data_delta\")"
   ]
  },
  {
   "cell_type": "code",
   "execution_count": 0,
   "metadata": {
    "application/vnd.databricks.v1+cell": {
     "cellMetadata": {
      "byteLimit": 2048000,
      "rowLimit": 10000
     },
     "inputWidgets": {},
     "nuid": "1aacf400-e93c-4f36-93c0-22b8d00b8ac4",
     "showTitle": false,
     "tableResultSettingsMap": {},
     "title": ""
    }
   },
   "outputs": [],
   "source": [
    "#Contracts transformation\n",
    "df_transactions_parquet = spark.read.format(\"parquet\").load(\"abfss://ifrs-project@storagezyesnazarov.dfs.core.windows.net/project-data/transactions/parquet/accounting_data\")"
   ]
  },
  {
   "cell_type": "code",
   "execution_count": 0,
   "metadata": {
    "application/vnd.databricks.v1+cell": {
     "cellMetadata": {
      "byteLimit": 2048000,
      "rowLimit": 10000
     },
     "inputWidgets": {},
     "nuid": "0199fd71-4d7e-4c5f-aee7-05b1d1098ce3",
     "showTitle": false,
     "tableResultSettingsMap": {},
     "title": ""
    }
   },
   "outputs": [],
   "source": [
    "#dropping duplicates\n",
    "df_transactions_cleaned = df_transactions_parquet.dropDuplicates()"
   ]
  },
  {
   "cell_type": "code",
   "execution_count": 0,
   "metadata": {
    "application/vnd.databricks.v1+cell": {
     "cellMetadata": {
      "byteLimit": 2048000,
      "rowLimit": 10000
     },
     "inputWidgets": {},
     "nuid": "c6ae1c73-0456-4356-9438-3e0b4a7ccdcc",
     "showTitle": false,
     "tableResultSettingsMap": {},
     "title": ""
    }
   },
   "outputs": [],
   "source": [
    "#unifying column name formats\n",
    "df_transactions_cleaned = df_transactions_cleaned.toDF(*[col_name.lower().replace(\" \" , \"_\") for col_name in df_transactions_cleaned.columns])"
   ]
  },
  {
   "cell_type": "code",
   "execution_count": 0,
   "metadata": {
    "application/vnd.databricks.v1+cell": {
     "cellMetadata": {
      "byteLimit": 2048000,
      "rowLimit": 10000
     },
     "inputWidgets": {},
     "nuid": "b5d93774-2ac8-4b43-a123-2f2b7771609e",
     "showTitle": false,
     "tableResultSettingsMap": {},
     "title": ""
    }
   },
   "outputs": [],
   "source": [
    "#filling n/a values with the appropriate placeholders\n",
    "df_transactions_cleaned = df_transactions_cleaned.fillna({\n",
    "    \"transaction_amount\": 0,\n",
    "    \"invoice_no\": \"Unknown\",\n",
    "    \"description\": \"Unknown\"\n",
    "    })"
   ]
  },
  {
   "cell_type": "code",
   "execution_count": 0,
   "metadata": {
    "application/vnd.databricks.v1+cell": {
     "cellMetadata": {
      "byteLimit": 2048000,
      "rowLimit": 10000
     },
     "inputWidgets": {},
     "nuid": "96d0ddbd-6d7b-4f1b-b16a-df17a704e4b4",
     "showTitle": false,
     "tableResultSettingsMap": {},
     "title": ""
    }
   },
   "outputs": [],
   "source": [
    "# changing to correct datatypes\n",
    "df_transactions_cleaned = df_transactions_cleaned.withColumn(\"transaction_date\", to_date(col(\"transaction_date\"), \"M/d/yy\")).withColumn(\"transaction_amount\", col(\"transaction_amount\").cast(\"bigint\"))"
   ]
  },
  {
   "cell_type": "code",
   "execution_count": 0,
   "metadata": {
    "application/vnd.databricks.v1+cell": {
     "cellMetadata": {
      "byteLimit": 2048000,
      "rowLimit": 10000
     },
     "inputWidgets": {},
     "nuid": "ad98f9e5-fe8e-461f-a3c8-5a218d784555",
     "showTitle": false,
     "tableResultSettingsMap": {},
     "title": ""
    }
   },
   "outputs": [],
   "source": [
    "df_transactions_cleaned.write.format(\"delta\").mode(\"append\").save(\"abfss://ifrs-project@storagezyesnazarov.dfs.core.windows.net/project-data/transactions/delta/accounting_data_delta\")"
   ]
  },
  {
   "cell_type": "code",
   "execution_count": 0,
   "metadata": {
    "application/vnd.databricks.v1+cell": {
     "cellMetadata": {
      "byteLimit": 2048000,
      "rowLimit": 10000
     },
     "inputWidgets": {},
     "nuid": "c5575c01-fa04-47cf-b963-4b795d75fc8a",
     "showTitle": false,
     "tableResultSettingsMap": {},
     "title": ""
    }
   },
   "outputs": [],
   "source": [
    "#employees data \n",
    "df_employees_parquet = spark.read.format(\"parquet\").load(\"abfss://ifrs-project@storagezyesnazarov.dfs.core.windows.net/project-data/employees/parquet/employees_data\")"
   ]
  },
  {
   "cell_type": "code",
   "execution_count": 0,
   "metadata": {
    "application/vnd.databricks.v1+cell": {
     "cellMetadata": {
      "byteLimit": 2048000,
      "rowLimit": 10000
     },
     "inputWidgets": {},
     "nuid": "5e403e5d-5c04-4626-bf3b-51265161dc4b",
     "showTitle": false,
     "tableResultSettingsMap": {},
     "title": ""
    }
   },
   "outputs": [],
   "source": [
    "#dropping duplicates\n",
    "df_employees_cleaned = df_employees_parquet.dropDuplicates()\n"
   ]
  },
  {
   "cell_type": "code",
   "execution_count": 0,
   "metadata": {
    "application/vnd.databricks.v1+cell": {
     "cellMetadata": {
      "byteLimit": 2048000,
      "rowLimit": 10000
     },
     "inputWidgets": {},
     "nuid": "55198b37-9001-4b1b-aeff-8e09a25ae883",
     "showTitle": false,
     "tableResultSettingsMap": {},
     "title": ""
    }
   },
   "outputs": [],
   "source": [
    "df_employees_cleaned = df_employees_cleaned.toDF(*[col_name.lower().replace(\" \" , \"_\") for col_name in df_employees_cleaned.columns])"
   ]
  },
  {
   "cell_type": "code",
   "execution_count": 0,
   "metadata": {
    "application/vnd.databricks.v1+cell": {
     "cellMetadata": {
      "byteLimit": 2048000,
      "rowLimit": 10000
     },
     "inputWidgets": {},
     "nuid": "62428c51-6076-4c4b-8af1-7dcaca09ae68",
     "showTitle": false,
     "tableResultSettingsMap": {},
     "title": ""
    }
   },
   "outputs": [],
   "source": [
    "df_employees_cleaned = df_employees_cleaned.fillna({\n",
    "    \"hourly_rate\": 0,\n",
    "    \"number_of_hours\": 0,\n",
    "    \"fixed_or_outsourcing\": \"Unknown\",\n",
    "    \"supervisor_name\": \"Unknown\",\n",
    "    \"grade\": \"Unknown\"\n",
    "})"
   ]
  },
  {
   "cell_type": "code",
   "execution_count": 0,
   "metadata": {
    "application/vnd.databricks.v1+cell": {
     "cellMetadata": {
      "byteLimit": 2048000,
      "rowLimit": 10000
     },
     "inputWidgets": {},
     "nuid": "b72ef891-cece-4d36-8789-972715239c09",
     "showTitle": false,
     "tableResultSettingsMap": {},
     "title": ""
    }
   },
   "outputs": [],
   "source": [
    "df_employees_cleaned = df_employees_cleaned.withColumn(\"date\", to_date(col(\"date\"), \"M/d/yy\")).withColumn(\"hourly_rate\", col(\"hourly_rate\").cast(\"int\")).withColumn(\"number_of_hours\", col(\"number_of_hours\").cast(\"int\"))"
   ]
  },
  {
   "cell_type": "code",
   "execution_count": 0,
   "metadata": {
    "application/vnd.databricks.v1+cell": {
     "cellMetadata": {
      "byteLimit": 2048000,
      "rowLimit": 10000
     },
     "inputWidgets": {},
     "nuid": "b7500d78-4db1-4b1a-b0c9-a99b875e3ebc",
     "showTitle": false,
     "tableResultSettingsMap": {},
     "title": ""
    }
   },
   "outputs": [],
   "source": [
    "df_employees_cleaned = df_employees_cleaned.withColumn(\"total_costs\", col(\"hourly_rate\") * col(\"number_of_hours\"))"
   ]
  },
  {
   "cell_type": "code",
   "execution_count": 0,
   "metadata": {
    "application/vnd.databricks.v1+cell": {
     "cellMetadata": {
      "byteLimit": 2048000,
      "rowLimit": 10000
     },
     "inputWidgets": {},
     "nuid": "7ee9076d-d842-4cb4-af90-6366bba8ccab",
     "showTitle": false,
     "tableResultSettingsMap": {},
     "title": ""
    }
   },
   "outputs": [],
   "source": [
    "df_employees_cleaned.write.format(\"delta\").mode(\"append\").save(\"abfss://ifrs-project@storagezyesnazarov.dfs.core.windows.net/project-data/employees/delta/employees_data_delta\")"
   ]
  }
 ],
 "metadata": {
  "application/vnd.databricks.v1+notebook": {
   "computePreferences": null,
   "dashboards": [],
   "environmentMetadata": {
    "base_environment": "",
    "environment_version": "2"
   },
   "language": "python",
   "notebookMetadata": {
    "pythonIndentUnit": 4
   },
   "notebookName": "Silver_layer",
   "widgets": {}
  },
  "language_info": {
   "name": "python"
  }
 },
 "nbformat": 4,
 "nbformat_minor": 0
}