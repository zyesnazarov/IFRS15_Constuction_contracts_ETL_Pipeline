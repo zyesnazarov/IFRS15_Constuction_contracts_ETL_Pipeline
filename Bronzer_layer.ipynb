{
 "cells": [
  {
   "cell_type": "code",
   "execution_count": 0,
   "metadata": {
    "application/vnd.databricks.v1+cell": {
     "cellMetadata": {
      "byteLimit": 2048000,
      "rowLimit": 10000
     },
     "inputWidgets": {},
     "nuid": "d6ecab82-4119-4695-96f7-e2e1cb1b7ca3",
     "showTitle": false,
     "tableResultSettingsMap": {},
     "title": ""
    }
   },
   "outputs": [],
   "source": [
    "from pyspark.sql import SparkSession\n",
    "from pyspark.sql.functions import *\n",
    "from pyspark.sql.types import *\n",
    "import re\n",
    "from datetime import datetime"
   ]
  },
  {
   "cell_type": "code",
   "execution_count": 0,
   "metadata": {
    "application/vnd.databricks.v1+cell": {
     "cellMetadata": {
      "byteLimit": 2048000,
      "rowLimit": 10000
     },
     "inputWidgets": {},
     "nuid": "90adff3b-e89d-4636-a5b5-3b35a6bc725d",
     "showTitle": false,
     "tableResultSettingsMap": {},
     "title": ""
    }
   },
   "outputs": [],
   "source": [
    "df_contracts = spark.read.format(\"csv\").option(\"header\",\"true\").load(\"abfss://ifrs-project@storagezyesnazarov.dfs.core.windows.net/landing-zone-contracts/raw-data/contracts_data.csv\")"
   ]
  },
  {
   "cell_type": "code",
   "execution_count": 0,
   "metadata": {
    "application/vnd.databricks.v1+cell": {
     "cellMetadata": {
      "byteLimit": 2048000,
      "rowLimit": 10000
     },
     "inputWidgets": {},
     "nuid": "06f32e82-1ba9-4a94-9b1f-e58a2e594cc5",
     "showTitle": false,
     "tableResultSettingsMap": {},
     "title": ""
    }
   },
   "outputs": [],
   "source": [
    "df_contracts.write.format(\"parquet\").mode(\"overwrite\").save(\"abfss://ifrs-project@storagezyesnazarov.dfs.core.windows.net/project-data/contracts/parquet/contracts_data\")"
   ]
  },
  {
   "cell_type": "code",
   "execution_count": 0,
   "metadata": {
    "application/vnd.databricks.v1+cell": {
     "cellMetadata": {
      "byteLimit": 2048000,
      "rowLimit": 10000
     },
     "inputWidgets": {},
     "nuid": "9c6ae19d-bc77-4905-ab1d-0503c021eaf9",
     "showTitle": false,
     "tableResultSettingsMap": {},
     "title": ""
    }
   },
   "outputs": [],
   "source": [
    "df_transactions = spark.read.format(\"csv\").option(\"header\",\"true\").load(\"abfss://ifrs-project@storagezyesnazarov.dfs.core.windows.net/landing-zone-transactions/raw-data/accounting_data.csv\")"
   ]
  },
  {
   "cell_type": "code",
   "execution_count": 0,
   "metadata": {
    "application/vnd.databricks.v1+cell": {
     "cellMetadata": {
      "byteLimit": 2048000,
      "rowLimit": 10000
     },
     "inputWidgets": {},
     "nuid": "98df6699-0e27-4fae-84df-ea7d7f1c97ae",
     "showTitle": false,
     "tableResultSettingsMap": {},
     "title": ""
    }
   },
   "outputs": [],
   "source": [
    "df_transactions.write.format(\"parquet\").mode(\"overwrite\").save(\"abfss://ifrs-project@storagezyesnazarov.dfs.core.windows.net/project-data/transactions/parquet/accounting_data\")"
   ]
  },
  {
   "cell_type": "code",
   "execution_count": 0,
   "metadata": {
    "application/vnd.databricks.v1+cell": {
     "cellMetadata": {
      "byteLimit": 2048000,
      "rowLimit": 10000
     },
     "inputWidgets": {},
     "nuid": "08c0d913-edd1-474f-b0c2-f8b776637df0",
     "showTitle": false,
     "tableResultSettingsMap": {},
     "title": ""
    }
   },
   "outputs": [],
   "source": [
    "df_employees = spark.read.format(\"csv\").option(\"header\",\"true\").load(\"abfss://ifrs-project@storagezyesnazarov.dfs.core.windows.net/landing-zone-employees/raw-data/employee_data.csv\")"
   ]
  },
  {
   "cell_type": "code",
   "execution_count": 0,
   "metadata": {
    "application/vnd.databricks.v1+cell": {
     "cellMetadata": {
      "byteLimit": 2048000,
      "rowLimit": 10000
     },
     "inputWidgets": {},
     "nuid": "1d78dade-d617-4b86-b10c-465f6d7141b3",
     "showTitle": false,
     "tableResultSettingsMap": {},
     "title": ""
    }
   },
   "outputs": [],
   "source": [
    "df_employees.write.format(\"parquet\").mode(\"overwrite\").save(\"abfss://ifrs-project@storagezyesnazarov.dfs.core.windows.net/project-data/employees/parquet/employees_data\")"
   ]
  },
  {
   "cell_type": "code",
   "execution_count": 0,
   "metadata": {
    "application/vnd.databricks.v1+cell": {
     "cellMetadata": {
      "byteLimit": 2048000,
      "rowLimit": 10000
     },
     "inputWidgets": {},
     "nuid": "a213b1c6-f6ec-4f15-992c-c519ab207057",
     "showTitle": false,
     "tableResultSettingsMap": {},
     "title": ""
    }
   },
   "outputs": [],
   "source": [
    "#contracts moving csv from raw to processed folder\n",
    "source_root = \"abfss://ifrs-project@storagezyesnazarov.dfs.core.windows.net/landing-zone-contracts/raw-data/\"\n",
    "destination_root = \"abfss://ifrs-project@storagezyesnazarov.dfs.core.windows.net/landing-zone-contracts/processed-data/\"\n",
    "\n",
    "datenow = datetime.now().strftime(\"%Y%m%d\")\n",
    "\n",
    "files = dbutils.fs.ls(source_root)\n",
    "\n",
    "for file in files:\n",
    "    file_name, file_extension = file.name.rsplit(\".\", 1)  \n",
    "    new_file_name = f\"{file_name}_{datenow}.{file_extension}\"  \n",
    "    \n",
    "    source_file_path = file.path\n",
    "    destination_file_path = destination_root + new_file_name\n",
    "\n",
    "    dbutils.fs.mv(source_file_path, destination_file_path)"
   ]
  },
  {
   "cell_type": "code",
   "execution_count": 0,
   "metadata": {
    "application/vnd.databricks.v1+cell": {
     "cellMetadata": {
      "byteLimit": 2048000,
      "rowLimit": 10000
     },
     "inputWidgets": {},
     "nuid": "4c10cd48-cc40-4c7a-aefa-1b6af6cb03bc",
     "showTitle": false,
     "tableResultSettingsMap": {},
     "title": ""
    }
   },
   "outputs": [],
   "source": [
    "#transactions moving csv from raw to processed folder\n",
    "source_root = \"abfss://ifrs-project@storagezyesnazarov.dfs.core.windows.net/landing-zone-transactions/raw-data/\"\n",
    "destination_root = \"abfss://ifrs-project@storagezyesnazarov.dfs.core.windows.net/landing-zone-transactions/processed-data/\"\n",
    "\n",
    "datenow = datetime.now().strftime(\"%Y%m%d\")\n",
    "\n",
    "files = dbutils.fs.ls(source_root)\n",
    "\n",
    "for file in files:\n",
    "    file_name, file_extension = file.name.rsplit(\".\", 1)  \n",
    "    new_file_name = f\"{file_name}_{datenow}.{file_extension}\"  \n",
    "    \n",
    "    source_file_path = file.path\n",
    "    destination_file_path = destination_root + new_file_name\n",
    "\n",
    "    dbutils.fs.mv(source_file_path, destination_file_path)"
   ]
  },
  {
   "cell_type": "code",
   "execution_count": 0,
   "metadata": {
    "application/vnd.databricks.v1+cell": {
     "cellMetadata": {
      "byteLimit": 2048000,
      "rowLimit": 10000
     },
     "inputWidgets": {},
     "nuid": "9b966ea2-e587-4c32-86c1-e3f295a02858",
     "showTitle": false,
     "tableResultSettingsMap": {},
     "title": ""
    }
   },
   "outputs": [],
   "source": [
    "#employees moving csv from raw to processed folder\n",
    "\n",
    "\n",
    "source_root = \"abfss://ifrs-project@storagezyesnazarov.dfs.core.windows.net/landing-zone-employees/raw-data/\"\n",
    "destination_root = \"abfss://ifrs-project@storagezyesnazarov.dfs.core.windows.net/landing-zone-employees/processed-data/\"\n",
    "\n",
    "datenow = datetime.now().strftime(\"%Y%m%d\")\n",
    "\n",
    "files = dbutils.fs.ls(source_root)\n",
    "\n",
    "for file in files:\n",
    "    file_name, file_extension = file.name.rsplit(\".\", 1)  \n",
    "    new_file_name = f\"{file_name}_{datenow}.{file_extension}\"  \n",
    "    \n",
    "    source_file_path = file.path\n",
    "    destination_file_path = destination_root + new_file_name\n",
    "\n",
    "    dbutils.fs.mv(source_file_path, destination_file_path)\n"
   ]
  }
 ],
 "metadata": {
  "application/vnd.databricks.v1+notebook": {
   "computePreferences": null,
   "dashboards": [],
   "environmentMetadata": {
    "base_environment": "",
    "environment_version": "2"
   },
   "language": "python",
   "notebookMetadata": {
    "pythonIndentUnit": 4
   },
   "notebookName": "Bronzer_layer",
   "widgets": {}
  },
  "language_info": {
   "name": "python"
  }
 },
 "nbformat": 4,
 "nbformat_minor": 0
}